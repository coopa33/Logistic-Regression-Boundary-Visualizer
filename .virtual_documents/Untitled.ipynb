import pandas as pd
import numpy as np


series = pd.Series([1, 2, 3])


print(series.dtype)



series.mean



